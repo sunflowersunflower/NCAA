{
  "nbformat": 4,
  "nbformat_minor": 0,
  "metadata": {
    "colab": {
      "name": "NCAA.ipynb",
      "version": "0.3.2",
      "provenance": [],
      "include_colab_link": true
    },
    "kernelspec": {
      "name": "python3",
      "display_name": "Python 3"
    }
  },
  "cells": [
    {
      "cell_type": "markdown",
      "metadata": {
        "id": "view-in-github",
        "colab_type": "text"
      },
      "source": [
        "<a href=\"https://colab.research.google.com/github/sunflowersunflower/NCAA/blob/master/NCAA.ipynb\" target=\"_parent\"><img src=\"https://colab.research.google.com/assets/colab-badge.svg\" alt=\"Open In Colab\"/></a>"
      ]
    },
    {
      "cell_type": "code",
      "metadata": {
        "id": "b6dmEAX1wk15",
        "colab_type": "code",
        "colab": {}
      },
      "source": [
        "import pandas as pd\n",
        "import math\n",
        "import csv\n",
        "import random\n",
        "import numpy\n",
        "from sklearn import model_selection\n",
        "from sklearn.ensemble import RandomForestClassifier\n",
        "from sklearn.neighbors import KNeighborsClassifier \n",
        "from sklearn.linear_model import LogisticRegression\n",
        "from sklearn.model_selection import GridSearchCV\n",
        "\n",
        "%matplotlib inline\n",
        "import matplotlib.pyplot as plt\n",
        "import seaborn as sns\n",
        "from sklearn.preprocessing import StandardScaler\n",
        "\n",
        "import warnings\n",
        "warnings.filterwarnings('ignore')"
      ],
      "execution_count": 0,
      "outputs": []
    },
    {
      "cell_type": "code",
      "metadata": {
        "id": "XIL0YE7FxgoC",
        "colab_type": "code",
        "cellView": "form",
        "colab": {}
      },
      "source": [
        "#@title calculate elo score \n",
        "def calc_elo(win_team, lose_team, season):\n",
        "    winner_rank = get_elo(season, win_team)\n",
        "    loser_rank = get_elo(season, lose_team)\n",
        "    rank_diff = winner_rank - loser_rank\n",
        "    exp = (rank_diff * -1) / 400\n",
        "    odds = 1 / (1 + math.pow(10, exp))\n",
        "    if winner_rank < 2100:\n",
        "        k = 32\n",
        "    elif winner_rank >= 2100 and winner_rank < 2400:\n",
        "        k = 24\n",
        "    else:\n",
        "        k = 16\n",
        "    new_winner_rank = round(winner_rank + (k * (1 - odds)))\n",
        "    new_rank_diff = new_winner_rank - winner_rank\n",
        "    new_loser_rank = loser_rank - new_rank_diff\n",
        "\n",
        "    return new_winner_rank, new_loser_rank\n",
        "  \n",
        "  \n",
        "def get_elo(season, team):\n",
        "    try:\n",
        "        return team_elos[season][team]\n",
        "    except:\n",
        "        try:\n",
        "            # Get the previous season's ending value.\n",
        "            team_elos[season][team] = team_elos[season-1][team]\n",
        "            return team_elos[season][team]\n",
        "        except:\n",
        "            # Get the starter elo.\n",
        "            team_elos[season][team] = base_elo\n",
        "            return team_elos[season][team]"
      ],
      "execution_count": 0,
      "outputs": []
    },
    {
      "cell_type": "code",
      "metadata": {
        "id": "jEmNxb2DyXtc",
        "colab_type": "code",
        "cellView": "form",
        "colab": {}
      },
      "source": [
        "#@title build data \n",
        "\n",
        "def initialize_data():\n",
        "    for i in range(1985, prediction_year+1):\n",
        "        team_elos[i] = {}\n",
        "        team_stats[i] = {}\n",
        "\n",
        "def update_stats(season, team, fields):\n",
        "    if team not in team_stats[season]:\n",
        "        team_stats[season][team] = {}\n",
        "\n",
        "    for key, value in fields.items():\n",
        "        # Make sure we have the field.\n",
        "        if key not in team_stats[season][team]:\n",
        "            team_stats[season][team][key] = []\n",
        "        if len(team_stats[season][team][key]) >= 9:\n",
        "            team_stats[season][team][key].pop()\n",
        "        team_stats[season][team][key].append(value)\n",
        "        \n",
        "def get_stat(season, team, field):\n",
        "    try:\n",
        "        l = team_stats[season][team][field]\n",
        "        return sum(l) / float(len(l))\n",
        "    except:\n",
        "        return 0\n",
        "      \n",
        "def build_team_dict():\n",
        "    team_ids = pd.read_csv(folder + '/Teams.csv')\n",
        "    team_id_map = {}\n",
        "    for index, row in team_ids.iterrows():\n",
        "        team_id_map[row['Team_Id']] = row['Team_Name']\n",
        "    return team_id_map\n",
        "  \n",
        "def build_season_data(all_data):\n",
        "    # Calculate the elo for every game for every team, each season.\n",
        "    # Store the elo per season so we can retrieve their end elo\n",
        "    # later in order to predict the tournaments without having to\n",
        "    # inject the prediction into this loop.\n",
        "    print(\"Building season data.\")\n",
        "    for index, row in all_data.iterrows():\n",
        "        # Used to skip matchups where we don't have usable stats yet.\n",
        "        skip = 0\n",
        "\n",
        "        # Get starter or previous elos.\n",
        "        team_1_elo = get_elo(row['Season'], row['Wteam'])\n",
        "        team_2_elo = get_elo(row['Season'], row['Lteam'])\n",
        "\n",
        "        if row['Wloc'] == 'H':\n",
        "            team_1_elo += 100\n",
        "        elif row['Wloc'] == 'A':\n",
        "            team_2_elo += 100\n",
        "\n",
        "        team_1_features = [team_1_elo]\n",
        "        team_2_features = [team_2_elo]\n",
        "\n",
        "        for field in stat_fields:\n",
        "            team_1_stat = get_stat(row['Season'], row['Wteam'], field)\n",
        "            team_2_stat = get_stat(row['Season'], row['Lteam'], field)\n",
        "            if team_1_stat is not 0 and team_2_stat is not 0:\n",
        "                team_1_features.append(team_1_stat)\n",
        "                team_2_features.append(team_2_stat)\n",
        "            else:\n",
        "                skip = 1\n",
        "\n",
        "        if skip == 0:  # Make sure we have stats.\n",
        "            # Randomly select left and right and 0 or 1\n",
        "            if random.random() > 0.5:\n",
        "                X.append(team_1_features + team_2_features)\n",
        "                y.append(0)\n",
        "            else:\n",
        "                X.append(team_2_features + team_1_features)\n",
        "                y.append(1)\n",
        "\n",
        "        if row['Wfta'] != 0 and row['Lfta'] != 0:\n",
        "            stat_1_fields = {\n",
        "                'score': row['Wscore'],\n",
        "                'fgp': row['Wfgm'] / row['Wfga'] * 100,\n",
        "                'fga': row['Wfga'],\n",
        "                'fga3': row['Wfga3'],\n",
        "                '3pp': row['Wfgm3'] / row['Wfga3'] * 100,\n",
        "                'ftp': row['Wftm'] / row['Wfta'] * 100,\n",
        "                'or': row['Wor'],\n",
        "                'dr': row['Wdr'],\n",
        "                'ast': row['Wast'],\n",
        "                'to': row['Wto'],\n",
        "                'stl': row['Wstl'],\n",
        "                'blk': row['Wblk'],\n",
        "                'pf': row['Wpf']\n",
        "            }\n",
        "            stat_2_fields = {\n",
        "                'score': row['Lscore'],\n",
        "                'fgp': row['Lfgm'] / row['Lfga'] * 100,\n",
        "                'fga': row['Lfga'],\n",
        "                'fga3': row['Lfga3'],\n",
        "                '3pp': row['Lfgm3'] / row['Lfga3'] * 100,\n",
        "                'ftp': row['Lftm'] / row['Lfta'] * 100,\n",
        "                'or': row['Lor'],\n",
        "                'dr': row['Ldr'],\n",
        "                'ast': row['Last'],\n",
        "                'to': row['Lto'],\n",
        "                'stl': row['Lstl'],\n",
        "                'blk': row['Lblk'],\n",
        "                'pf': row['Lpf']\n",
        "            }\n",
        "            update_stats(row['Season'], row['Wteam'], stat_1_fields)\n",
        "            update_stats(row['Season'], row['Lteam'], stat_2_fields)\n",
        "\n",
        "        # Now that we've added them, calc the new elo.\n",
        "        new_winner_rank, new_loser_rank = calc_elo(\n",
        "            row['Wteam'], row['Lteam'], row['Season'])\n",
        "        team_elos[row['Season']][row['Wteam']] = new_winner_rank\n",
        "        team_elos[row['Season']][row['Lteam']] = new_loser_rank\n",
        "\n",
        "    return X, y"
      ],
      "execution_count": 0,
      "outputs": []
    },
    {
      "cell_type": "code",
      "metadata": {
        "id": "_PUfpfa2yGTk",
        "colab_type": "code",
        "cellView": "form",
        "colab": {}
      },
      "source": [
        "#@title prediction of result \n",
        "def predict_winner(team_1, team_2, model, season, stat_fields):\n",
        "    features = []\n",
        "\n",
        "    # Team 1\n",
        "    features.append(get_elo(season, team_1))\n",
        "    for stat in stat_fields:\n",
        "        features.append(get_stat(season, team_1, stat))\n",
        "\n",
        "    # Team 2\n",
        "    features.append(get_elo(season, team_2))\n",
        "    for stat in stat_fields:\n",
        "        features.append(get_stat(season, team_2, stat))\n",
        "\n",
        "    return model.predict_proba([features])"
      ],
      "execution_count": 0,
      "outputs": []
    },
    {
      "cell_type": "code",
      "metadata": {
        "id": "3EduPAJ9ztJx",
        "colab_type": "code",
        "cellView": "both",
        "colab": {}
      },
      "source": [
        "#@title helper function for printing out grid search results \n",
        "def print_grid_search_metrics(gs):\n",
        "    print (\"Best score: %0.3f\" % gs.best_score_)\n",
        "    print (\"Best parameters set:\")\n",
        "    best_parameters = gs.best_params_\n",
        "    for param_name in sorted(parameters.keys()):\n",
        "        print(\"\\t%s: %r\" % (param_name, best_parameters[param_name]))"
      ],
      "execution_count": 0,
      "outputs": []
    },
    {
      "cell_type": "code",
      "metadata": {
        "id": "OHw9ytRj0JVq",
        "colab_type": "code",
        "colab": {}
      },
      "source": [
        "#@title load data \n",
        "file_id='1PVdFEP4YXHdQ8vc-Vi75roecxhcBc1D1'\n",
        "link='https://drive.google.com/uc?export=download&id={FILE_ID}'\n",
        "csv_url=link.format(FILE_ID=file_id)\n",
        "season_data = pd.read_csv(csv_url)\n",
        "\n",
        "file_id='11w8bD8Pm1LMIvc7Cu3V63FFxjfEP5Jd0'\n",
        "link='https://drive.google.com/uc?export=download&id={FILE_ID}'\n",
        "csv_url=link.format(FILE_ID=file_id)\n",
        "tourney_data = pd.read_csv(csv_url)\n",
        "\n"
      ],
      "execution_count": 0,
      "outputs": []
    },
    {
      "cell_type": "code",
      "metadata": {
        "id": "AAFLlJxW1JYt",
        "colab_type": "code",
        "colab": {}
      },
      "source": [
        "base_elo = 1600\n",
        "team_elos = {}  \n",
        "team_stats = {}\n",
        "X = []\n",
        "y = []\n",
        "prediction_year = 2016"
      ],
      "execution_count": 0,
      "outputs": []
    },
    {
      "cell_type": "code",
      "metadata": {
        "id": "qyGkgVeOyAjD",
        "colab_type": "code",
        "outputId": "f192aa09-9af7-4fe1-95c1-013ecd912bbb",
        "colab": {
          "base_uri": "https://localhost:8080/",
          "height": 34
        }
      },
      "source": [
        "if __name__ == \"__main__\":\n",
        "    stat_fields = ['score', 'fga', 'fgp', 'fga3', '3pp', 'ftp', 'or', 'dr',\n",
        "                   'ast', 'to', 'stl', 'blk', 'pf']\n",
        "    initialize_data()\n",
        "    frames = [season_data, tourney_data]\n",
        "    all_data = pd.concat(frames)\n",
        "\n",
        "    # Build the working data.\n",
        "    X, y = build_season_data(all_data)\n"
      ],
      "execution_count": 0,
      "outputs": [
        {
          "output_type": "stream",
          "text": [
            "Building season data.\n"
          ],
          "name": "stdout"
        }
      ]
    },
    {
      "cell_type": "code",
      "metadata": {
        "id": "lT-gTpWFx2Pt",
        "colab_type": "code",
        "colab": {}
      },
      "source": [
        "X_data = pd.DataFrame(X, columns = ['Elo'] + stat_fields + ['Elo'] + stat_fields)\n",
        "y_data = pd.DataFrame(y, columns = ['win'])"
      ],
      "execution_count": 0,
      "outputs": []
    },
    {
      "cell_type": "code",
      "metadata": {
        "id": "eW7KN8yS6AlB",
        "colab_type": "code",
        "outputId": "7a09d5ee-eba8-46ce-c554-21fbec5fd839",
        "colab": {
          "base_uri": "https://localhost:8080/",
          "height": 224
        }
      },
      "source": [
        "X_data.head()"
      ],
      "execution_count": 0,
      "outputs": [
        {
          "output_type": "execute_result",
          "data": {
            "text/html": [
              "<div>\n",
              "<style scoped>\n",
              "    .dataframe tbody tr th:only-of-type {\n",
              "        vertical-align: middle;\n",
              "    }\n",
              "\n",
              "    .dataframe tbody tr th {\n",
              "        vertical-align: top;\n",
              "    }\n",
              "\n",
              "    .dataframe thead th {\n",
              "        text-align: right;\n",
              "    }\n",
              "</style>\n",
              "<table border=\"1\" class=\"dataframe\">\n",
              "  <thead>\n",
              "    <tr style=\"text-align: right;\">\n",
              "      <th></th>\n",
              "      <th>Elo</th>\n",
              "      <th>score</th>\n",
              "      <th>fga</th>\n",
              "      <th>fgp</th>\n",
              "      <th>fga3</th>\n",
              "      <th>3pp</th>\n",
              "      <th>ftp</th>\n",
              "      <th>or</th>\n",
              "      <th>dr</th>\n",
              "      <th>ast</th>\n",
              "      <th>to</th>\n",
              "      <th>stl</th>\n",
              "      <th>blk</th>\n",
              "      <th>pf</th>\n",
              "      <th>Elo</th>\n",
              "      <th>score</th>\n",
              "      <th>fga</th>\n",
              "      <th>fgp</th>\n",
              "      <th>fga3</th>\n",
              "      <th>3pp</th>\n",
              "      <th>ftp</th>\n",
              "      <th>or</th>\n",
              "      <th>dr</th>\n",
              "      <th>ast</th>\n",
              "      <th>to</th>\n",
              "      <th>stl</th>\n",
              "      <th>blk</th>\n",
              "      <th>pf</th>\n",
              "    </tr>\n",
              "  </thead>\n",
              "  <tbody>\n",
              "    <tr>\n",
              "      <th>0</th>\n",
              "      <td>1584</td>\n",
              "      <td>50.0</td>\n",
              "      <td>49.0</td>\n",
              "      <td>36.734694</td>\n",
              "      <td>22.0</td>\n",
              "      <td>27.272727</td>\n",
              "      <td>53.333333</td>\n",
              "      <td>17.0</td>\n",
              "      <td>20.0</td>\n",
              "      <td>9.0</td>\n",
              "      <td>19.0</td>\n",
              "      <td>4.0</td>\n",
              "      <td>3.0</td>\n",
              "      <td>23.0</td>\n",
              "      <td>1584</td>\n",
              "      <td>55.0</td>\n",
              "      <td>46.0</td>\n",
              "      <td>43.478261</td>\n",
              "      <td>11.0</td>\n",
              "      <td>27.272727</td>\n",
              "      <td>70.588235</td>\n",
              "      <td>6.0</td>\n",
              "      <td>22.0</td>\n",
              "      <td>8.0</td>\n",
              "      <td>19.0</td>\n",
              "      <td>4.0</td>\n",
              "      <td>3.0</td>\n",
              "      <td>25.0</td>\n",
              "    </tr>\n",
              "    <tr>\n",
              "      <th>1</th>\n",
              "      <td>1616</td>\n",
              "      <td>56.0</td>\n",
              "      <td>38.0</td>\n",
              "      <td>47.368421</td>\n",
              "      <td>9.0</td>\n",
              "      <td>33.333333</td>\n",
              "      <td>54.838710</td>\n",
              "      <td>6.0</td>\n",
              "      <td>19.0</td>\n",
              "      <td>11.0</td>\n",
              "      <td>12.0</td>\n",
              "      <td>14.0</td>\n",
              "      <td>2.0</td>\n",
              "      <td>18.0</td>\n",
              "      <td>1716</td>\n",
              "      <td>81.0</td>\n",
              "      <td>57.0</td>\n",
              "      <td>45.614035</td>\n",
              "      <td>12.0</td>\n",
              "      <td>50.000000</td>\n",
              "      <td>85.185185</td>\n",
              "      <td>12.0</td>\n",
              "      <td>24.0</td>\n",
              "      <td>12.0</td>\n",
              "      <td>9.0</td>\n",
              "      <td>9.0</td>\n",
              "      <td>3.0</td>\n",
              "      <td>18.0</td>\n",
              "    </tr>\n",
              "    <tr>\n",
              "      <th>2</th>\n",
              "      <td>1584</td>\n",
              "      <td>48.0</td>\n",
              "      <td>64.0</td>\n",
              "      <td>28.125000</td>\n",
              "      <td>24.0</td>\n",
              "      <td>33.333333</td>\n",
              "      <td>50.000000</td>\n",
              "      <td>14.0</td>\n",
              "      <td>26.0</td>\n",
              "      <td>12.0</td>\n",
              "      <td>17.0</td>\n",
              "      <td>10.0</td>\n",
              "      <td>0.0</td>\n",
              "      <td>17.0</td>\n",
              "      <td>1584</td>\n",
              "      <td>65.0</td>\n",
              "      <td>56.0</td>\n",
              "      <td>42.857143</td>\n",
              "      <td>19.0</td>\n",
              "      <td>31.578947</td>\n",
              "      <td>64.705882</td>\n",
              "      <td>14.0</td>\n",
              "      <td>21.0</td>\n",
              "      <td>17.0</td>\n",
              "      <td>18.0</td>\n",
              "      <td>8.0</td>\n",
              "      <td>4.0</td>\n",
              "      <td>13.0</td>\n",
              "    </tr>\n",
              "    <tr>\n",
              "      <th>3</th>\n",
              "      <td>1584</td>\n",
              "      <td>62.0</td>\n",
              "      <td>41.0</td>\n",
              "      <td>46.341463</td>\n",
              "      <td>15.0</td>\n",
              "      <td>26.666667</td>\n",
              "      <td>71.428571</td>\n",
              "      <td>9.0</td>\n",
              "      <td>21.0</td>\n",
              "      <td>11.0</td>\n",
              "      <td>30.0</td>\n",
              "      <td>10.0</td>\n",
              "      <td>4.0</td>\n",
              "      <td>28.0</td>\n",
              "      <td>1584</td>\n",
              "      <td>66.0</td>\n",
              "      <td>52.0</td>\n",
              "      <td>46.153846</td>\n",
              "      <td>18.0</td>\n",
              "      <td>33.333333</td>\n",
              "      <td>44.444444</td>\n",
              "      <td>13.0</td>\n",
              "      <td>26.0</td>\n",
              "      <td>13.0</td>\n",
              "      <td>25.0</td>\n",
              "      <td>8.0</td>\n",
              "      <td>2.0</td>\n",
              "      <td>18.0</td>\n",
              "    </tr>\n",
              "    <tr>\n",
              "      <th>4</th>\n",
              "      <td>1716</td>\n",
              "      <td>80.0</td>\n",
              "      <td>55.0</td>\n",
              "      <td>41.818182</td>\n",
              "      <td>8.0</td>\n",
              "      <td>25.000000</td>\n",
              "      <td>82.051282</td>\n",
              "      <td>13.0</td>\n",
              "      <td>18.0</td>\n",
              "      <td>14.0</td>\n",
              "      <td>17.0</td>\n",
              "      <td>11.0</td>\n",
              "      <td>1.0</td>\n",
              "      <td>25.0</td>\n",
              "      <td>1616</td>\n",
              "      <td>71.0</td>\n",
              "      <td>58.0</td>\n",
              "      <td>48.275862</td>\n",
              "      <td>11.0</td>\n",
              "      <td>45.454545</td>\n",
              "      <td>55.555556</td>\n",
              "      <td>9.0</td>\n",
              "      <td>22.0</td>\n",
              "      <td>9.0</td>\n",
              "      <td>17.0</td>\n",
              "      <td>9.0</td>\n",
              "      <td>2.0</td>\n",
              "      <td>23.0</td>\n",
              "    </tr>\n",
              "  </tbody>\n",
              "</table>\n",
              "</div>"
            ],
            "text/plain": [
              "    Elo  score   fga        fgp  fga3  ...   ast    to  stl  blk    pf\n",
              "0  1584   50.0  49.0  36.734694  22.0  ...   8.0  19.0  4.0  3.0  25.0\n",
              "1  1616   56.0  38.0  47.368421   9.0  ...  12.0   9.0  9.0  3.0  18.0\n",
              "2  1584   48.0  64.0  28.125000  24.0  ...  17.0  18.0  8.0  4.0  13.0\n",
              "3  1584   62.0  41.0  46.341463  15.0  ...  13.0  25.0  8.0  2.0  18.0\n",
              "4  1716   80.0  55.0  41.818182   8.0  ...   9.0  17.0  9.0  2.0  23.0\n",
              "\n",
              "[5 rows x 28 columns]"
            ]
          },
          "metadata": {
            "tags": []
          },
          "execution_count": 43
        }
      ]
    },
    {
      "cell_type": "code",
      "metadata": {
        "id": "7Mvz6dap4tno",
        "colab_type": "code",
        "outputId": "7c308725-fac0-4cc5-acd5-ee6fc5e7df2d",
        "colab": {
          "base_uri": "https://localhost:8080/",
          "height": 299
        }
      },
      "source": [
        "corr = X_data.corr()\n",
        "sns.heatmap(corr)"
      ],
      "execution_count": 0,
      "outputs": [
        {
          "output_type": "execute_result",
          "data": {
            "text/plain": [
              "<matplotlib.axes._subplots.AxesSubplot at 0x7f2ef0202048>"
            ]
          },
          "metadata": {
            "tags": []
          },
          "execution_count": 41
        },
        {
          "output_type": "display_data",
          "data": {
            "image/png": "[encoded data removed]",
            "text/plain": [
              "<Figure size 432x288 with 2 Axes>"
            ]
          },
          "metadata": {
            "tags": []
          }
        }
      ]
    },
    {
      "cell_type": "markdown",
      "metadata": {
        "id": "Dgug7KxY6Vg0",
        "colab_type": "text"
      },
      "source": [
        "**Model Training**"
      ]
    },
    {
      "cell_type": "markdown",
      "metadata": {
        "id": "OTtQ3OM_646z",
        "colab_type": "text"
      },
      "source": [
        "Split dataset"
      ]
    },
    {
      "cell_type": "code",
      "metadata": {
        "id": "EScOv-UK6Up8",
        "colab_type": "code",
        "outputId": "1d40dd1b-12e5-4c37-a81a-e27007ec2355",
        "colab": {
          "base_uri": "https://localhost:8080/",
          "height": 215
        }
      },
      "source": [
        "# Reserve 20% for testing\n",
        "X_train, X_test, y_train, y_test = model_selection.train_test_split(X_data, y_data, test_size=0.2)\n",
        "\n",
        "print('training data has %d observation with %d features'% X_train.shape)\n",
        "print('test data has %d observation with %d features'% X_test.shape)"
      ],
      "execution_count": 3,
      "outputs": [
        {
          "output_type": "error",
          "ename": "NameError",
          "evalue": "ignored",
          "traceback": [
            "\u001b[0;31m---------------------------------------------------------------------------\u001b[0m",
            "\u001b[0;31mNameError\u001b[0m                                 Traceback (most recent call last)",
            "\u001b[0;32m<ipython-input-3-9f51862c8047>\u001b[0m in \u001b[0;36m<module>\u001b[0;34m()\u001b[0m\n\u001b[0;32m----> 1\u001b[0;31m \u001b[0mX_train\u001b[0m\u001b[0;34m,\u001b[0m \u001b[0mX_test\u001b[0m\u001b[0;34m,\u001b[0m \u001b[0my_train\u001b[0m\u001b[0;34m,\u001b[0m \u001b[0my_test\u001b[0m \u001b[0;34m=\u001b[0m \u001b[0mmodel_selection\u001b[0m\u001b[0;34m.\u001b[0m\u001b[0mtrain_test_split\u001b[0m\u001b[0;34m(\u001b[0m\u001b[0mX_data\u001b[0m\u001b[0;34m,\u001b[0m \u001b[0my_data\u001b[0m\u001b[0;34m,\u001b[0m \u001b[0mtest_size\u001b[0m\u001b[0;34m=\u001b[0m\u001b[0;36m0.2\u001b[0m\u001b[0;34m)\u001b[0m\u001b[0;34m\u001b[0m\u001b[0;34m\u001b[0m\u001b[0m\n\u001b[0m\u001b[1;32m      2\u001b[0m \u001b[0;34m\u001b[0m\u001b[0m\n\u001b[1;32m      3\u001b[0m \u001b[0mprint\u001b[0m\u001b[0;34m(\u001b[0m\u001b[0;34m'training data has %d observation with %d features'\u001b[0m\u001b[0;34m%\u001b[0m \u001b[0mX_train\u001b[0m\u001b[0;34m.\u001b[0m\u001b[0mshape\u001b[0m\u001b[0;34m)\u001b[0m\u001b[0;34m\u001b[0m\u001b[0;34m\u001b[0m\u001b[0m\n\u001b[1;32m      4\u001b[0m \u001b[0mprint\u001b[0m\u001b[0;34m(\u001b[0m\u001b[0;34m'test data has %d observation with %d features'\u001b[0m\u001b[0;34m%\u001b[0m \u001b[0mX_test\u001b[0m\u001b[0;34m.\u001b[0m\u001b[0mshape\u001b[0m\u001b[0;34m)\u001b[0m\u001b[0;34m\u001b[0m\u001b[0;34m\u001b[0m\u001b[0m\n",
            "\u001b[0;31mNameError\u001b[0m: name 'model_selection' is not defined"
          ]
        }
      ]
    },
    {
      "cell_type": "code",
      "metadata": {
        "id": "OlPZguNY6h-K",
        "colab_type": "code",
        "colab": {}
      },
      "source": [
        "# Scale the data, using standardization\n",
        "scaler = StandardScaler()\n",
        "X_train = scaler.fit_transform(X_train)\n",
        "X_test = scaler.transform(X_test)"
      ],
      "execution_count": 0,
      "outputs": []
    },
    {
      "cell_type": "markdown",
      "metadata": {
        "id": "BlrzPI6b6_ed",
        "colab_type": "text"
      },
      "source": [
        "Model Training and Selection"
      ]
    },
    {
      "cell_type": "code",
      "metadata": {
        "id": "dZTdB8fV680D",
        "colab_type": "code",
        "colab": {}
      },
      "source": [
        "#@title build models\n",
        "\n",
        "# Logistic Regression\n",
        "classifier_logistic = LogisticRegression()\n",
        "\n",
        "# K Nearest Neighbors\n",
        "classifier_KNN = KNeighborsClassifier()\n",
        "\n",
        "# Random Forest\n",
        "classifier_RF = RandomForestClassifier()"
      ],
      "execution_count": 0,
      "outputs": []
    },
    {
      "cell_type": "code",
      "metadata": {
        "id": "DU4hSZ1o6sbS",
        "colab_type": "code",
        "outputId": "8c2b0561-2c56-4e93-c0f4-66d6fc1ec818",
        "colab": {
          "base_uri": "https://localhost:8080/",
          "height": 34
        }
      },
      "source": [
        "# Train the model\n",
        "classifier_logistic.fit(X_train, y_train)\n",
        "# Prediction of test data\n",
        "classifier_logistic.predict(X_test)\n",
        "# Accuracy of test data\n",
        "classifier_logistic.score(X_test, y_test)"
      ],
      "execution_count": 0,
      "outputs": [
        {
          "output_type": "execute_result",
          "data": {
            "text/plain": [
              "0.731545079892994"
            ]
          },
          "metadata": {
            "tags": []
          },
          "execution_count": 51
        }
      ]
    },
    {
      "cell_type": "code",
      "metadata": {
        "id": "GupPHIrX5nal",
        "colab_type": "code",
        "outputId": "3b5dfc98-a696-423c-afec-18508f280d66",
        "colab": {
          "base_uri": "https://localhost:8080/",
          "height": 68
        }
      },
      "source": [
        "# Use 5-fold Cross Validation to get the accuracy for different models\n",
        "model_names = ['Logistic Regression','KNN','Random Forest']\n",
        "model_list = [classifier_logistic, classifier_KNN, classifier_RF]\n",
        "count = 0\n",
        "\n",
        "for classifier in model_list:\n",
        "    cv_score = model_selection.cross_val_score(classifier, numpy.array(X), numpy.array(y), cv=5)\n",
        "    # cprint(cv_score)\n",
        "    print('Model accuracy of %s is: %.3f'%(model_names[count],cv_score.mean()))\n",
        "    count += 1"
      ],
      "execution_count": 0,
      "outputs": [
        {
          "output_type": "stream",
          "text": [
            "Model accuracy of Logistic Regression is: 0.727\n",
            "Model accuracy of KNN is: 0.683\n",
            "Model accuracy of Random Forest is: 0.678\n"
          ],
          "name": "stdout"
        }
      ]
    },
    {
      "cell_type": "markdown",
      "metadata": {
        "id": "KLCE_F7f8rou",
        "colab_type": "text"
      },
      "source": [
        "Find Optimal Hyperparameters - LogisticRegression"
      ]
    },
    {
      "cell_type": "code",
      "metadata": {
        "id": "tcEej9wr73is",
        "colab_type": "code",
        "outputId": "5ef82b7d-265f-43d1-d7da-de91216265a2",
        "colab": {
          "base_uri": "https://localhost:8080/",
          "height": 85
        }
      },
      "source": [
        "# Possible hyperparamter options for Logistic Regression Regularization\n",
        "# Penalty is choosed from L1 or L2\n",
        "# C is the lambda value(weight) for L1 and L2\n",
        "parameters = {\n",
        "    'penalty':('l1', 'l2'), \n",
        "    'C':(0.1, 0.2, 0.4, 0.8, 1.6, 3.2, 5, 10)\n",
        "}\n",
        "Grid_LR = GridSearchCV(LogisticRegression(),parameters, cv=5)\n",
        "Grid_LR.fit(numpy.array(X), numpy.array(y))\n",
        "# the best hyperparameter combination\n",
        "print_grid_search_metrics(Grid_LR)"
      ],
      "execution_count": 0,
      "outputs": [
        {
          "output_type": "stream",
          "text": [
            "Best score: 0.727\n",
            "Best parameters set:\n",
            "\tC: 0.1\n",
            "\tpenalty: 'l2'\n"
          ],
          "name": "stdout"
        }
      ]
    },
    {
      "cell_type": "code",
      "metadata": {
        "id": "XFn7T9ja9wzh",
        "colab_type": "code",
        "colab": {}
      },
      "source": [
        "# best model\n",
        "best_LR_model = Grid_LR.best_estimator_"
      ],
      "execution_count": 0,
      "outputs": []
    },
    {
      "cell_type": "markdown",
      "metadata": {
        "id": "M6m83IGy8tTn",
        "colab_type": "text"
      },
      "source": [
        "Find Optimal Hyperparameters: KNN"
      ]
    },
    {
      "cell_type": "code",
      "metadata": {
        "id": "hjtaMxyU8xvl",
        "colab_type": "code",
        "outputId": "c3e45967-2eef-4319-b034-6041230a3160",
        "colab": {
          "base_uri": "https://localhost:8080/",
          "height": 88
        }
      },
      "source": [
        "# Possible hyperparamter options for KNN\n",
        "# Choose k\n",
        "parameters = {\n",
        "    'n_neighbors':[3,5,7,10] \n",
        "}\n",
        "Grid_KNN = GridSearchCV(KNeighborsClassifier(),parameters, cv=5)\n",
        "Grid_KNN.fit(X_train, y_train)\n",
        "print_grid_search_metrics(Grid_KNN)"
      ],
      "execution_count": 0,
      "outputs": [
        {
          "output_type": "stream",
          "text": [
            "Best score: 0.665\n",
            "Best parameters set:\n",
            "\tn_neighbors: 10\n"
          ],
          "name": "stdout"
        }
      ]
    },
    {
      "cell_type": "markdown",
      "metadata": {
        "id": "ybEdMTn885Tm",
        "colab_type": "text"
      },
      "source": [
        " Find Optimal Hyperparameters: Random Forest"
      ]
    },
    {
      "cell_type": "code",
      "metadata": {
        "id": "Ob7pMfkd88AF",
        "colab_type": "code",
        "outputId": "c7390a15-cac0-4ea9-9569-f9947ca54875",
        "colab": {
          "base_uri": "https://localhost:8080/",
          "height": 88
        }
      },
      "source": [
        "# Possible hyperparamter options for Random Forest\n",
        "# Choose the number of trees\n",
        "parameters = {\n",
        "    'n_estimators' : [40,60,80]\n",
        "}\n",
        "Grid_RF = GridSearchCV(RandomForestClassifier(),parameters, cv=5)\n",
        "Grid_RF.fit(X_train, y_train)\n",
        "# best number of tress\n",
        "print_grid_search_metrics(Grid_RF)\n"
      ],
      "execution_count": 0,
      "outputs": [
        {
          "output_type": "stream",
          "text": [
            "Best score: 0.715\n",
            "Best parameters set:\n",
            "\tn_estimators: 80\n"
          ],
          "name": "stdout"
        }
      ]
    },
    {
      "cell_type": "code",
      "metadata": {
        "id": "SyjTKSqd9zNX",
        "colab_type": "code",
        "colab": {}
      },
      "source": [
        "# best random forest\n",
        "best_RF_model = Grid_RF.best_estimator_"
      ],
      "execution_count": 0,
      "outputs": []
    },
    {
      "cell_type": "markdown",
      "metadata": {
        "id": "Zba2fLZe9C2l",
        "colab_type": "text"
      },
      "source": [
        "Model Evaluation - Confusion Matrix (Precision, Recall, Accuracy)"
      ]
    },
    {
      "cell_type": "code",
      "metadata": {
        "id": "3I1orJ3c9FqF",
        "colab_type": "code",
        "cellView": "form",
        "colab": {}
      },
      "source": [
        "#@title helper function for confusion matrix\n",
        "\n",
        "from sklearn.metrics import confusion_matrix\n",
        "from sklearn.metrics import classification_report\n",
        "from sklearn.metrics import precision_score\n",
        "from sklearn.metrics import recall_score\n",
        "\n",
        "# calculate accuracy, precision and recall\n",
        "def cal_evaluation(classifier, cm):\n",
        "    tn = cm[0][0]\n",
        "    fp = cm[0][1]\n",
        "    fn = cm[1][0]\n",
        "    tp = cm[1][1]\n",
        "    accuracy  = (tp + tn) / (tp + fp + fn + tn + 0.0)\n",
        "    precision = tp / (tp + fp + 0.0)\n",
        "    recall = tp / (tp + fn + 0.0)\n",
        "    print (classifier)\n",
        "    print (\"Accuracy is: %0.3f\" % accuracy)\n",
        "    print (\"precision is: %0.3f\" % precision)\n",
        "    print (\"recall is: %0.3f\" % recall)\n",
        "\n",
        "# print out confusion matrices\n",
        "def draw_confusion_matrices(confusion_matricies):\n",
        "    class_names = ['Not','Churn']\n",
        "    for cm in confusion_matrices:\n",
        "        classifier, cm = cm[0], cm[1]\n",
        "        cal_evaluation(classifier, cm)\n",
        "        fig = plt.figure()\n",
        "        ax = fig.add_subplot(111)\n",
        "        cax = ax.matshow(cm, interpolation='nearest',cmap=plt.get_cmap('Reds'))\n",
        "        plt.title('Confusion matrix for %s' % classifier)\n",
        "        fig.colorbar(cax)\n",
        "        ax.set_xticklabels([''] + class_names)\n",
        "        ax.set_yticklabels([''] + class_names)\n",
        "        plt.xlabel('Predicted')\n",
        "        plt.ylabel('True')\n",
        "        plt.show()"
      ],
      "execution_count": 0,
      "outputs": []
    },
    {
      "cell_type": "code",
      "metadata": {
        "id": "yxsXXkzD9TM5",
        "colab_type": "code",
        "outputId": "9b3a9535-ad52-4612-b36b-f908bb0a2e34",
        "colab": {
          "base_uri": "https://localhost:8080/",
          "height": 232
        }
      },
      "source": [
        "# Confusion matrix, accuracy, precison and recall for random forest and logistic regression\n",
        "confusion_matrices = [\n",
        "    (\"Random Forest\", confusion_matrix(y_test,best_RF_model.predict(X_test))),\n",
        "    (\"Logistic Regression\", confusion_matrix(y_test,best_LR_model.predict(X_test))),\n",
        "]\n",
        "\n",
        "draw_confusion_matrices(confusion_matrices)"
      ],
      "execution_count": 2,
      "outputs": [
        {
          "output_type": "error",
          "ename": "NameError",
          "evalue": "ignored",
          "traceback": [
            "\u001b[0;31m---------------------------------------------------------------------------\u001b[0m",
            "\u001b[0;31mNameError\u001b[0m                                 Traceback (most recent call last)",
            "\u001b[0;32m<ipython-input-2-1c620ab60097>\u001b[0m in \u001b[0;36m<module>\u001b[0;34m()\u001b[0m\n\u001b[1;32m      1\u001b[0m confusion_matrices = [\n\u001b[0;32m----> 2\u001b[0;31m     \u001b[0;34m(\u001b[0m\u001b[0;34m\"Random Forest\"\u001b[0m\u001b[0;34m,\u001b[0m \u001b[0mconfusion_matrix\u001b[0m\u001b[0;34m(\u001b[0m\u001b[0my_test\u001b[0m\u001b[0;34m,\u001b[0m\u001b[0mbest_RF_model\u001b[0m\u001b[0;34m.\u001b[0m\u001b[0mpredict\u001b[0m\u001b[0;34m(\u001b[0m\u001b[0mX_test\u001b[0m\u001b[0;34m)\u001b[0m\u001b[0;34m)\u001b[0m\u001b[0;34m)\u001b[0m\u001b[0;34m,\u001b[0m\u001b[0;34m\u001b[0m\u001b[0;34m\u001b[0m\u001b[0m\n\u001b[0m\u001b[1;32m      3\u001b[0m     \u001b[0;34m(\u001b[0m\u001b[0;34m\"Logistic Regression\"\u001b[0m\u001b[0;34m,\u001b[0m \u001b[0mconfusion_matrix\u001b[0m\u001b[0;34m(\u001b[0m\u001b[0my_test\u001b[0m\u001b[0;34m,\u001b[0m\u001b[0mbest_LR_model\u001b[0m\u001b[0;34m.\u001b[0m\u001b[0mpredict\u001b[0m\u001b[0;34m(\u001b[0m\u001b[0mX_test\u001b[0m\u001b[0;34m)\u001b[0m\u001b[0;34m)\u001b[0m\u001b[0;34m)\u001b[0m\u001b[0;34m,\u001b[0m\u001b[0;34m\u001b[0m\u001b[0;34m\u001b[0m\u001b[0m\n\u001b[1;32m      4\u001b[0m ]\n\u001b[1;32m      5\u001b[0m \u001b[0;34m\u001b[0m\u001b[0m\n",
            "\u001b[0;31mNameError\u001b[0m: name 'y_test' is not defined"
          ]
        }
      ]
    },
    {
      "cell_type": "markdown",
      "metadata": {
        "id": "oidozQtf991H",
        "colab_type": "text"
      },
      "source": [
        "Model Evaluation - ROC & AUC"
      ]
    },
    {
      "cell_type": "code",
      "metadata": {
        "id": "45LVYEVQ9-8f",
        "colab_type": "code",
        "colab": {}
      },
      "source": [
        "from sklearn.metrics import roc_curve\n",
        "from sklearn import metrics\n",
        "\n",
        "# Use predict_proba to get the probability results of Random Forest\n",
        "y_pred_rf = best_RF_model.predict_proba(X_test)[:, 1]\n",
        "fpr_rf, tpr_rf, _ = roc_curve(y_test, y_pred_rf)"
      ],
      "execution_count": 0,
      "outputs": []
    },
    {
      "cell_type": "code",
      "metadata": {
        "id": "W80AG8Oc-E9n",
        "colab_type": "code",
        "colab": {}
      },
      "source": [
        "# ROC curve of Random Forest result\n",
        "plt.figure(1)\n",
        "plt.plot([0, 1], [0, 1], 'k--')\n",
        "plt.plot(fpr_rf, tpr_rf, label='RF')\n",
        "plt.xlabel('False positive rate')\n",
        "plt.ylabel('True positive rate')\n",
        "plt.title('ROC curve - RF model')\n",
        "plt.legend(loc='best')\n",
        "plt.show()"
      ],
      "execution_count": 0,
      "outputs": []
    },
    {
      "cell_type": "code",
      "metadata": {
        "id": "OjxuGgcU-Io3",
        "colab_type": "code",
        "colab": {}
      },
      "source": [
        "# AUC score\n",
        "metrics.auc(fpr_rf,tpr_rf)"
      ],
      "execution_count": 0,
      "outputs": []
    },
    {
      "cell_type": "code",
      "metadata": {
        "id": "zMDK5uzP-MwP",
        "colab_type": "code",
        "colab": {}
      },
      "source": [
        "# Use predict_proba to get the probability results of Logistic Regression\n",
        "y_pred_lr = best_LR_model.predict_proba(X_test)[:, 1]\n",
        "fpr_lr, tpr_lr, _ = roc_curve(y_test, y_pred_lr)"
      ],
      "execution_count": 0,
      "outputs": []
    },
    {
      "cell_type": "code",
      "metadata": {
        "id": "xUTMPTAs-OqD",
        "colab_type": "code",
        "colab": {}
      },
      "source": [
        "# ROC Curve\n",
        "plt.figure(1)\n",
        "plt.plot([0, 1], [0, 1], 'k--')\n",
        "plt.plot(fpr_lr, tpr_lr, label='LR')\n",
        "plt.xlabel('False positive rate')\n",
        "plt.ylabel('True positive rate')\n",
        "plt.title('ROC curve - LR Model')\n",
        "plt.legend(loc='best')\n",
        "plt.show()"
      ],
      "execution_count": 0,
      "outputs": []
    },
    {
      "cell_type": "code",
      "metadata": {
        "id": "GtQJDKbF-Q_I",
        "colab_type": "code",
        "colab": {}
      },
      "source": [
        "# AUC score\n",
        "metrics.auc(fpr_lr,tpr_lr)"
      ],
      "execution_count": 0,
      "outputs": []
    },
    {
      "cell_type": "markdown",
      "metadata": {
        "id": "LHoFyehT-b1g",
        "colab_type": "text"
      },
      "source": [
        "Random Forest Model - Feature Importance Discussion"
      ]
    },
    {
      "cell_type": "code",
      "metadata": {
        "id": "JwsEKUl_-Y-h",
        "colab_type": "code",
        "colab": {}
      },
      "source": [
        "# check feature importance of random forest for feature selection\n",
        "forest = RandomForestClassifier()\n",
        "forest.fit(X_train, y_train)\n",
        "\n",
        "importances = forest.feature_importances_\n",
        "\n",
        "# Print the feature ranking\n",
        "print(\"Feature importance ranking by Random Forest Model:\")    #round(number, number of digits)\n",
        "for k,v in sorted(zip(map(lambda x: round(x, 4), importances), churn_feat_space.columns), reverse=True):\n",
        "    print (v + \": \" + str(k))"
      ],
      "execution_count": 0,
      "outputs": []
    }
  ]
}